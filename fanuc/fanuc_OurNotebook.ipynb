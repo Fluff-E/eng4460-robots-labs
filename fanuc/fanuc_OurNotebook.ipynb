{
 "cells": [
  {
   "cell_type": "code",
   "execution_count": 8,
   "metadata": {},
   "outputs": [],
   "source": [
    "#!/usr/bin/env python\n",
    "\n",
    "from fanuc_pcdk_client import FanucPCDKClient\n",
    "from robot_loc_world import RobotLocWorld\n",
    "from robot_loc_joint import RobotLocJoint\n",
    "from time import sleep\n",
    "\n",
    "ROBOT_SPEED = 20\n",
    "ROBOT_SPEED_LINEAR = 20"
   ]
  },
  {
   "cell_type": "code",
   "execution_count": 9,
   "metadata": {},
   "outputs": [
    {
     "name": "stdout",
     "output_type": "stream",
     "text": [
      "Connecting to robot at 192.168.1.1\n",
      "Robot Status: \u001b[32mConnected\n",
      "\u001b[0m\n"
     ]
    }
   ],
   "source": [
    "# Robot init\n",
    "robot = FanucPCDKClient()\n",
    "robot.connect()\n",
    "\n",
    "# Run teach pendant program.\n",
    "robot.run_program('PCDK')\n",
    "robot.reset_alarms()\n",
    "\n",
    "# Adjust the speed of the robot\n",
    "robot.set_speed(ROBOT_SPEED)"
   ]
  },
  {
   "cell_type": "markdown",
   "metadata": {},
   "source": [
    "## Robot Motion"
   ]
  },
  {
   "cell_type": "markdown",
   "metadata": {},
   "source": [
    "There are three motions the robot can perform. Joint movements, world movements, and linear movements."
   ]
  },
  {
   "cell_type": "code",
   "execution_count": null,
   "metadata": {},
   "outputs": [],
   "source": [
    "# Move robot using joint coordinates\n",
    "joint_loc = RobotLocJoint(j1=20, j2=0, j3=-15, j4=0, j5=-25, j6=0)\n",
    "robot.move_joint(joint_loc)"
   ]
  },
  {
   "cell_type": "code",
   "execution_count": 34,
   "metadata": {},
   "outputs": [],
   "source": [
    "# Move robot using joint coordinates\n",
    "joint_loc = RobotLocJoint(j1=0, j2=0, j3=0, j4=0, j5=0, j6=0)\n",
    "robot.move_joint(joint_loc)"
   ]
  },
  {
   "cell_type": "code",
   "execution_count": null,
   "metadata": {},
   "outputs": [],
   "source": [
    "# Move robot using world coordinates\n",
    "world_loc = RobotLocWorld(x=345.437, y=128.544, z=-119.671,\n",
    "                          w=179.499, p=0.827,   r=2.541, \n",
    "                          f=False, u=True, t=True)\n",
    "robot.move(world_loc)"
   ]
  },
  {
   "cell_type": "code",
   "execution_count": null,
   "metadata": {},
   "outputs": [],
   "source": [
    "# Move robot using linear motion (requires world coordinates)\n",
    "world_loc = RobotLocWorld(x=345.437, y=128.544, z=-9.080,\n",
    "                          w=179.499, p=0.827,   r=2.541, \n",
    "                          f=False, u=True, t=True)\n",
    "robot.move(world_loc, move_linear=True, speed=ROBOT_SPEED_LINEAR)"
   ]
  },
  {
   "cell_type": "markdown",
   "metadata": {},
   "source": [
    "You can retrieve the current location of the robot in either joint or world coordinates with the following commands:"
   ]
  },
  {
   "cell_type": "code",
   "execution_count": null,
   "metadata": {},
   "outputs": [],
   "source": [
    "# Retrieve the current world XYZWPR coordinates of the robot\n",
    "loc_world = robot.get_position(\"world\")\n",
    "print(f'Current world location: {loc_world}\\n')\n",
    "\n",
    "# Retrieve the current joint coordinates of the robot\n",
    "loc_joint = robot.get_position(\"joint\")\n",
    "print(f'Current joint location: {loc_joint}\\n')"
   ]
  },
  {
   "cell_type": "markdown",
   "metadata": {},
   "source": [
    "## Gripper Actuation"
   ]
  },
  {
   "cell_type": "code",
   "execution_count": 102,
   "metadata": {},
   "outputs": [],
   "source": [
    "# Open gripper\n",
    "robot.open_gripper()"
   ]
  },
  {
   "cell_type": "code",
   "execution_count": 61,
   "metadata": {},
   "outputs": [],
   "source": [
    "# Close Gripper\n",
    "robot.close_gripper()"
   ]
  },
  {
   "cell_type": "markdown",
   "metadata": {},
   "source": [
    "## Close connection with robot"
   ]
  },
  {
   "cell_type": "code",
   "execution_count": null,
   "metadata": {},
   "outputs": [],
   "source": [
    "# Close the connection to the Fanuc PCDK server\n",
    "robot.close_connection()"
   ]
  },
  {
   "cell_type": "markdown",
   "metadata": {},
   "source": [
    "## Task 1"
   ]
  },
  {
   "cell_type": "code",
   "execution_count": 143,
   "metadata": {},
   "outputs": [
    {
     "name": "stdout",
     "output_type": "stream",
     "text": [
      "> Already at location; skipping move\n"
     ]
    }
   ],
   "source": [
    "# Move up from pick using world coordinates\n",
    "abovePick = RobotLocWorld(x=0, y=-300, z=-120,\n",
    "                          w=180, p=0,   r=0, \n",
    "                          f=False, u=True, t=True)\n",
    "robot.move(abovePick)"
   ]
  },
  {
   "cell_type": "code",
   "execution_count": 144,
   "metadata": {},
   "outputs": [],
   "source": [
    "# Move to pick using world coordinates\n",
    "pick_loc = RobotLocWorld(x=0, y=-300, z=-220,\n",
    "                          w=180, p=0,   r=0, \n",
    "                          f=False, u=True, t=True)\n",
    "robot.move(pick_loc)"
   ]
  },
  {
   "cell_type": "code",
   "execution_count": 145,
   "metadata": {},
   "outputs": [],
   "source": [
    "# Close Gripper\n",
    "robot.close_gripper()"
   ]
  },
  {
   "cell_type": "code",
   "execution_count": 146,
   "metadata": {},
   "outputs": [],
   "source": [
    "# Move up from pick using world coordinates\n",
    "abovePick = RobotLocWorld(x=0, y=-300, z=-120,\n",
    "                          w=180, p=0,   r=0, \n",
    "                          f=False, u=True, t=True)\n",
    "robot.move(abovePick)"
   ]
  },
  {
   "cell_type": "code",
   "execution_count": 147,
   "metadata": {},
   "outputs": [],
   "source": [
    "# Move side pos using world coordinates\n",
    "sidePos = RobotLocWorld(x=0, y=-300, z=-120,\n",
    "                          w=180, p=-90,   r=0, \n",
    "                          f=False, u=True, t=True)\n",
    "robot.move(sidePos)"
   ]
  },
  {
   "cell_type": "code",
   "execution_count": 148,
   "metadata": {},
   "outputs": [],
   "source": [
    "# Move down in side pos using world coordinates\n",
    "lowSidePos = RobotLocWorld(x=0, y=-300, z=-210,\n",
    "                          w=180, p=-90,   r=0, \n",
    "                          f=False, u=True, t=True)\n",
    "robot.move(lowSidePos)"
   ]
  },
  {
   "cell_type": "code",
   "execution_count": 149,
   "metadata": {},
   "outputs": [],
   "source": [
    "# Move insert pos using world coordinates\n",
    "sidePos = RobotLocWorld(x=150, y=-300, z=-210,\n",
    "                          w=180, p=-90,   r=0, \n",
    "                          f=False, u=True, t=True)\n",
    "robot.move(sidePos)"
   ]
  },
  {
   "cell_type": "code",
   "execution_count": 150,
   "metadata": {},
   "outputs": [],
   "source": [
    "# Open gripper\n",
    "robot.open_gripper()"
   ]
  },
  {
   "cell_type": "code",
   "execution_count": 151,
   "metadata": {},
   "outputs": [],
   "source": [
    "# Move back to lowered side position pos using world coordinates\n",
    "\n",
    "robot.move(lowSidePos)\n",
    "robot.move(abovePick)"
   ]
  },
  {
   "cell_type": "markdown",
   "metadata": {},
   "source": [
    "## Task 2"
   ]
  },
  {
   "cell_type": "code",
   "execution_count": 193,
   "metadata": {},
   "outputs": [],
   "source": [
    "# above P1 using world coordinates\n",
    "aboveP1 = RobotLocWorld(x=200, y=-300, z=-120,\n",
    "                          w=180, p=0,   r=90, \n",
    "                          f=False, u=True, t=True)\n",
    "robot.move(aboveP1)"
   ]
  },
  {
   "cell_type": "code",
   "execution_count": 187,
   "metadata": {},
   "outputs": [],
   "source": [
    "# bottom P1 using world coordinates\n",
    "bottomP1 = RobotLocWorld(x=200, y=-300, z=-290,\n",
    "                          w=180, p=0,   r=90, \n",
    "                          f=False, u=True, t=True)\n",
    "robot.move(bottomP1)"
   ]
  },
  {
   "cell_type": "code",
   "execution_count": 188,
   "metadata": {},
   "outputs": [],
   "source": [
    "# Close Gripper\n",
    "robot.close_gripper()"
   ]
  },
  {
   "cell_type": "code",
   "execution_count": 192,
   "metadata": {},
   "outputs": [],
   "source": [
    "# above P2 using world coordinates\n",
    "aboveP2 = RobotLocWorld(x=-200, y=-300, z=-120,\n",
    "                          w=180, p=0,   r=-90, \n",
    "                          f=False, u=True, t=True)\n",
    "robot.move(aboveP2)"
   ]
  },
  {
   "cell_type": "code",
   "execution_count": 190,
   "metadata": {},
   "outputs": [],
   "source": [
    "# bottom P2 using world coordinates\n",
    "aboveP2 = RobotLocWorld(x=-200, y=-300, z=-290,\n",
    "                          w=180, p=0,   r=-90, \n",
    "                          f=False, u=True, t=True)\n",
    "robot.move(aboveP2)"
   ]
  },
  {
   "cell_type": "code",
   "execution_count": 191,
   "metadata": {},
   "outputs": [],
   "source": [
    "# Open gripper\n",
    "robot.open_gripper()"
   ]
  },
  {
   "cell_type": "code",
   "execution_count": null,
   "metadata": {},
   "outputs": [],
   "source": [
    "# Manual Stack of n mover set up\n",
    "num_blocks = 1 # number of blocks in stack\n",
    "block_h = 20 # height of each block\n",
    "\n",
    "# Above positions 1 and 2\n",
    "aboveP1 = RobotLocWorld(x=200, y=-300, z=-120,\n",
    "                          w=180, p=0,   r=90, \n",
    "                          f=False, u=True, t=True)\n",
    "\n",
    "aboveP2 = RobotLocWorld(x=-200, y=-300, z=-120,\n",
    "                          w=180, p=0,   r=-90, \n",
    "                          f=False, u=True, t=True)\n",
    "\n",
    "# Stack positions 1 and 2 start at bottom position\n",
    "stackP1 = RobotLocWorld(x=-200, y=-300, z=-290,\n",
    "                          w=180, p=0,   r=-90, \n",
    "                          f=False, u=True, t=True)\n",
    "\n",
    "stackP2 = RobotLocWorld(x=-200, y=-300, z=-290,\n",
    "                          w=180, p=0,   r=-90, \n",
    "                          f=False, u=True, t=True)\n",
    "\n",
    "\n",
    "# Set the stackP1 position z to be higher by num_blocks*block_h\n",
    "stackP1.z += num_blocks * block_h"
   ]
  },
  {
   "cell_type": "code",
   "execution_count": null,
   "metadata": {},
   "outputs": [],
   "source": [
    " # Manual Stack of n mover loop\n",
    "  \n",
    "# Move above P1\n",
    "robot.move(aboveP1)\n",
    "# Move to stackP1\n",
    "robot.move(stackP1)\n",
    "# Close Gripper\n",
    "robot.close_gripper()\n",
    "# Move above P1\n",
    "robot.move(aboveP1)\n",
    "# Move above P2\n",
    "robot.move(aboveP2)\n",
    "# Move to stackP2\n",
    "robot.move(stackP2)\n",
    "# Open gripper\n",
    "robot.open_gripper()\n",
    "# Move above P2\n",
    "robot.move(aboveP2)\n",
    "# Decrease stackP1.z by block_h\n",
    "stackP1.z -= block_h\n",
    "# Increase stackP2.z by block_h\n",
    "stackP2.z += block_h"
   ]
  },
  {
   "cell_type": "code",
   "execution_count": null,
   "metadata": {},
   "outputs": [],
   "source": [
    "# Automatic Stack of n mover\n",
    "\n",
    "num_blocks = 1 # number of blocks in stack\n",
    "block_h = 20 # height of each block\n",
    "\n",
    "# Above positions 1 and 2\n",
    "aboveP1 = RobotLocWorld(x=200, y=-300, z=-120,\n",
    "                          w=180, p=0,   r=90, \n",
    "                          f=False, u=True, t=True)\n",
    "\n",
    "aboveP2 = RobotLocWorld(x=-200, y=-300, z=-120,\n",
    "                          w=180, p=0,   r=-90, \n",
    "                          f=False, u=True, t=True)\n",
    "\n",
    "# Stack positions 1 and 2 start at bottom position\n",
    "stackP1 = RobotLocWorld(x=-200, y=-300, z=-290,\n",
    "                          w=180, p=0,   r=-90, \n",
    "                          f=False, u=True, t=True)\n",
    "\n",
    "stackP2 = RobotLocWorld(x=-200, y=-300, z=-290,\n",
    "                          w=180, p=0,   r=-90, \n",
    "                          f=False, u=True, t=True)\n",
    "\n",
    "\n",
    "# Set the stackP1 position z to be higher by num_blocks*block_h\n",
    "stackP1.z += num_blocks * block_h\n",
    "\n",
    "# Loop for moving a stack of quantity num_blocks from P1 to P2\n",
    "    # Each loop stackP1.z decreases by block_h\n",
    "    # Each loop stackP2.z increases by block_h\n",
    "for i in range(num_blocks):\n",
    "    # Move above P1\n",
    "    robot.move(aboveP1)\n",
    "    # Move to stackP1\n",
    "    robot.move(stackP1)\n",
    "    # Close Gripper\n",
    "    robot.close_gripper()\n",
    "    # Move above P1\n",
    "    robot.move(aboveP1)\n",
    "    # Move above P2\n",
    "    robot.move(aboveP2)\n",
    "    # Move to stackP2\n",
    "    robot.move(stackP2)\n",
    "    # Open gripper\n",
    "    robot.open_gripper()\n",
    "    # Move above P2\n",
    "    robot.move(aboveP2)\n",
    "\n",
    "    # Decrease stackP1.z by block_h\n",
    "    stackP1.z -= block_h\n",
    "    # Increase stackP2.z by block_h\n",
    "    stackP2.z += block_h"
   ]
  }
 ],
 "metadata": {
  "kernelspec": {
   "display_name": "Python 3",
   "language": "python",
   "name": "python3"
  },
  "language_info": {
   "codemirror_mode": {
    "name": "ipython",
    "version": 3
   },
   "file_extension": ".py",
   "mimetype": "text/x-python",
   "name": "python",
   "nbconvert_exporter": "python",
   "pygments_lexer": "ipython3",
   "version": "3.7.3"
  }
 },
 "nbformat": 4,
 "nbformat_minor": 2
}
