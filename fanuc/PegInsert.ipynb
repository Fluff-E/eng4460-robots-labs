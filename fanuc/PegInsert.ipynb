{
 "cells": [
  {
   "cell_type": "code",
   "execution_count": null,
   "id": "a76bbf03",
   "metadata": {},
   "outputs": [],
   "source": [
    "#!/usr/bin/env python\n",
    "\n",
    "from fanuc_pcdk_client import FanucPCDKClient\n",
    "from robot_loc_world import RobotLocWorld\n",
    "from robot_loc_joint import RobotLocJoint\n",
    "from time import sleep\n",
    "\n",
    "ROBOT_SPEED = 30\n",
    "ROBOT_SPEED_LINEAR = 45"
   ]
  },
  {
   "cell_type": "code",
   "execution_count": null,
   "id": "67aa77bc",
   "metadata": {},
   "outputs": [],
   "source": [
    "# Robot init\n",
    "robot = FanucPCDKClient()\n",
    "robot.connect()\n",
    "\n",
    "# Run teach pendant program.\n",
    "robot.run_program('PCDK')\n",
    "robot.reset_alarms()\n",
    "\n",
    "# Adjust the speed of the robot\n",
    "robot.set_speed(ROBOT_SPEED)"
   ]
  },
  {
   "cell_type": "markdown",
   "id": "d1f7304a",
   "metadata": {},
   "source": [
    "There are three motions the robot can perform. Joint movements, world movements, and linear movements."
   ]
  },
  {
   "cell_type": "markdown",
   "id": "bf02d9d5",
   "metadata": {},
   "source": [
    "## Robot Motion"
   ]
  },
  {
   "cell_type": "code",
   "execution_count": null,
   "id": "defdf5f9",
   "metadata": {},
   "outputs": [],
   "source": [
    "# Move robot using joint coordinates\n",
    "joint_loc = RobotLocJoint(j1=20, j2=0, j3=-15, j4=0, j5=-25, j6=0)\n",
    "robot.move_joint(joint_loc)"
   ]
  },
  {
   "cell_type": "code",
   "execution_count": null,
   "id": "6bddda92",
   "metadata": {},
   "outputs": [],
   "source": [
    "# Move robot using world coordinates\n",
    "service_loc = RobotLocWorld(x=345.437, y=128.544, z=-119.671,\n",
    "                          w=179.499, p=0.827,   r=2.541, \n",
    "                          f=False, u=True, t=True)\n",
    "robot.move(service_loc)"
   ]
  },
  {
   "cell_type": "code",
   "execution_count": null,
   "id": "747c94ba",
   "metadata": {},
   "outputs": [],
   "source": [
    "# Move robot using linear motion (requires world coordinates)\n",
    "service_loc = RobotLocWorld(x=345.437, y=128.544, z=-9.080,\n",
    "                          w=179.499, p=0.827,   r=2.541, \n",
    "                          f=False, u=True, t=True)\n",
    "robot.move(service_loc, move_linear=True, speed=ROBOT_SPEED_LINEAR)"
   ]
  },
  {
   "cell_type": "markdown",
   "id": "89c7c6c2",
   "metadata": {},
   "source": [
    "You can retrieve the current location of the robot in either joint or world coordinates with the following commands:"
   ]
  },
  {
   "cell_type": "code",
   "execution_count": null,
   "id": "f68ca4d7",
   "metadata": {},
   "outputs": [],
   "source": [
    "# Retrieve the current world XYZWPR coordinates of the robot\n",
    "loc_world = robot.get_position(\"world\")\n",
    "print(f'Current world location: {loc_world}\\n')\n",
    "\n",
    "# Retrieve the current joint coordinates of the robot\n",
    "loc_joint = robot.get_position(\"joint\")\n",
    "print(f'Current joint location: {loc_joint}\\n')"
   ]
  },
  {
   "cell_type": "markdown",
   "id": "94566cfd",
   "metadata": {},
   "source": [
    "## Gripper Actuation"
   ]
  },
  {
   "cell_type": "code",
   "execution_count": null,
   "id": "cc53d80f",
   "metadata": {},
   "outputs": [],
   "source": [
    "# Open gripper\n",
    "robot.open_gripper()"
   ]
  },
  {
   "cell_type": "code",
   "execution_count": null,
   "id": "e5a825e5",
   "metadata": {},
   "outputs": [],
   "source": [
    "# Close Gripper\n",
    "robot.close_gripper()"
   ]
  },
  {
   "cell_type": "markdown",
   "id": "f5869312",
   "metadata": {},
   "source": [
    "## Close connection with robot"
   ]
  },
  {
   "cell_type": "code",
   "execution_count": null,
   "id": "c2b83e29",
   "metadata": {},
   "outputs": [],
   "source": [
    "# Close the connection to the Fanuc PCDK server\n",
    "robot.close_connection()"
   ]
  },
  {
   "cell_type": "markdown",
   "id": "894801ec",
   "metadata": {},
   "source": [
    "# Task sequence setup\n",
    "Edit these waypoints to match your workcell before running the motion steps below."
   ]
  },
  {
   "cell_type": "code",
   "execution_count": null,
   "id": "982fa2dd",
   "metadata": {},
   "outputs": [],
   "source": [
    "# Waypoints (example values; tweak for your cell)\n",
    "above_peg   = RobotLocWorld(x=345.4, y=128.5, z= 50.0,  w=179.5, p=0.8, r=2.5, f=False, u=True, t=True)\n",
    "at_peg      = RobotLocWorld(x=345.4, y=128.5, z=-9.08,  w=179.5, p=0.8, r=2.5, f=False, u=True, t=True)\n",
    "above_hole  = RobotLocWorld(x=420.0, y=160.0, z= 50.0,  w=179.5, p=0.8, r=2.5, f=False, u=True, t=True)\n",
    "at_hole     = RobotLocWorld(x=420.0, y=160.0, z=-10.0,  w=179.5, p=0.8, r=2.5, f=False, u=True, t=True)\n",
    "travel_speed = 45  # linear\n",
    "approach_speed = 20  # slower for approach"
   ]
  },
  {
   "cell_type": "markdown",
   "id": "20ed0bc2",
   "metadata": {},
   "source": [
    "## Place in service\n",
    "Move to accessible location"
   ]
  },
  {
   "cell_type": "code",
   "execution_count": null,
   "id": "d79698d1",
   "metadata": {},
   "outputs": [],
   "source": [
    "# Move robot to service location using world coordinates\n",
    "service_loc = RobotLocWorld(x=345.437, y=128.544, z=-119.671,\n",
    "                          w=179.499, p=0.827,   r=2.541, \n",
    "                          f=False, u=True, t=True)\n",
    "robot.move(service_loc)"
   ]
  },
  {
   "cell_type": "markdown",
   "id": "e464cb64",
   "metadata": {},
   "source": [
    "Grip open"
   ]
  },
  {
   "cell_type": "code",
   "execution_count": null,
   "id": "93f341ca",
   "metadata": {},
   "outputs": [],
   "source": [
    "robot.open_gripper()"
   ]
  },
  {
   "cell_type": "markdown",
   "id": "706ec1b6",
   "metadata": {},
   "source": [
    "Grip close"
   ]
  },
  {
   "cell_type": "code",
   "execution_count": null,
   "id": "5f796fb3",
   "metadata": {},
   "outputs": [],
   "source": [
    "robot.close_gripper()"
   ]
  },
  {
   "cell_type": "markdown",
   "id": "5ad99bce",
   "metadata": {},
   "source": [
    "Position above peg"
   ]
  },
  {
   "cell_type": "code",
   "execution_count": null,
   "id": "50107b3a",
   "metadata": {},
   "outputs": [],
   "source": [
    "robot.move(above_peg, move_linear=True, speed=travel_speed)"
   ]
  },
  {
   "cell_type": "markdown",
   "id": "c10b3f3e",
   "metadata": {},
   "source": [
    "Lower to peg"
   ]
  },
  {
   "cell_type": "code",
   "execution_count": null,
   "id": "11491af1",
   "metadata": {},
   "outputs": [],
   "source": [
    "robot.move(at_peg, move_linear=True, speed=approach_speed)"
   ]
  },
  {
   "cell_type": "markdown",
   "id": "d95ac65f",
   "metadata": {},
   "source": [
    "Position above hole"
   ]
  },
  {
   "cell_type": "code",
   "execution_count": null,
   "id": "9707e3c8",
   "metadata": {},
   "outputs": [],
   "source": [
    "robot.move(above_hole, move_linear=True, speed=travel_speed)"
   ]
  },
  {
   "cell_type": "markdown",
   "id": "5dcb10d9",
   "metadata": {},
   "source": [
    "Lower peg into hole"
   ]
  },
  {
   "cell_type": "code",
   "execution_count": null,
   "id": "664ec048",
   "metadata": {},
   "outputs": [],
   "source": [
    "robot.move(at_hole, move_linear=True, speed=approach_speed)"
   ]
  }
 ],
 "metadata": {
  "kernelspec": {
   "display_name": "Python 3 (ipykernel)",
   "language": "python",
   "name": "python3"
  },
  "language_info": {
   "codemirror_mode": {
    "name": "ipython",
    "version": 3
   },
   "file_extension": ".py",
   "mimetype": "text/x-python",
   "name": "python",
   "nbconvert_exporter": "python",
   "pygments_lexer": "ipython3",
   "version": "3.11.4"
  }
 },
 "nbformat": 4,
 "nbformat_minor": 5
}
